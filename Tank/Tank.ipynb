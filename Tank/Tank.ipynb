{
 "cells": [
  {
   "cell_type": "code",
   "execution_count": 1,
   "metadata": {},
   "outputs": [
    {
     "name": "stderr",
     "output_type": "stream",
     "text": [
      "/usr/local/lib/python3.6/dist-packages/Jetson.GPIO-2.0.12-py3.6.egg/Jetson/GPIO/gpio.py:366: RuntimeWarning: This channel is already in use, continuing anyway. Use GPIO.setwarnings(False) to disable warnings\n"
     ]
    }
   ],
   "source": [
    "#import Jetson.GPIO as GPIO\n",
    "import RPi.GPIO as GPIO\n",
    "GPIO.setmode(GPIO.BOARD)\n",
    "# or\n",
    "#GPIO.setmode(GPIO.BCM)\n",
    "# or\n",
    "#GPIO.setmode(GPIO.CVM)\n",
    "# or\n",
    "#GPIO.setmode(GPIO.TEGRA_SOC)\n",
    "\n",
    "# the GPIO fires the cannon, so we want to make sure it doesn't turn on unless we want it to!\n",
    "channel = 37 # GPIO pin to use on 40 pin header. \n",
    "GPIO.setup(channel, GPIO.OUT, initial=GPIO.LOW)"
   ]
  },
  {
   "cell_type": "code",
   "execution_count": 2,
   "metadata": {},
   "outputs": [
    {
     "data": {
      "application/vnd.jupyter.widget-view+json": {
       "model_id": "f57e34436fef4ef68dc62583236a72cb",
       "version_major": 2,
       "version_minor": 0
      },
      "text/plain": [
       "Controller()"
      ]
     },
     "metadata": {},
     "output_type": "display_data"
    }
   ],
   "source": [
    "import ipywidgets.widgets as widgets\n",
    "\n",
    "controller = widgets.Controller(index=0)  # replace with index of your controller\n",
    "\n",
    "display(controller)"
   ]
  },
  {
   "cell_type": "code",
   "execution_count": 4,
   "metadata": {},
   "outputs": [],
   "source": [
    "from jetbot import Robot\n",
    "import traitlets\n",
    "\n",
    "robot = Robot()\n",
    "\n",
    "left_link = traitlets.dlink((controller.axes[1], 'value'), (robot.left_motor, 'value'), transform=lambda x: -x)\n",
    "right_link = traitlets.dlink((controller.axes[3], 'value'), (robot.right_motor, 'value'), transform=lambda x: -x)"
   ]
  },
  {
   "cell_type": "markdown",
   "metadata": {},
   "source": [
    "This code tests the GPIO, camera and joystick. IOW it will serve as the test bench for the Tank's different functions.\n",
    "\n",
    "The library came from: https://github.com/NVIDIA/jetson-gpio\n"
   ]
  },
  {
   "cell_type": "code",
   "execution_count": 5,
   "metadata": {},
   "outputs": [],
   "source": [
    "import time\n",
    "\n",
    "def handle_button(change):\n",
    "    print (\" Button pressed \", change)\n",
    "    if change[\"on\"]: \n",
    "        GPIO.output(channel, GPIO.HIGH) # fire the cannon\n",
    "        time.sleep(0.1)\n",
    "        GPIO.output(channel, GPIO.LOW)\n",
    "\n",
    "#controller.on_click(handle_button)\n",
    "controller.buttons[5].observe(handle_button, names='value')\n"
   ]
  },
  {
   "cell_type": "code",
   "execution_count": 6,
   "metadata": {},
   "outputs": [
    {
     "data": {
      "application/vnd.jupyter.widget-view+json": {
       "model_id": "35033664d34f41a2bf7124c3403ee98d",
       "version_major": 2,
       "version_minor": 0
      },
      "text/plain": [
       "Image(value=b'', format='jpeg', height='480', width='640')"
      ]
     },
     "metadata": {},
     "output_type": "display_data"
    }
   ],
   "source": [
    "image = widgets.Image(format='jpeg', width=640, height=480)\n",
    "\n",
    "display(image)\n",
    "from jetbot import Camera\n",
    "\n",
    "camera = Camera.instance()\n",
    "\n",
    "from jetbot import bgr8_to_jpeg\n",
    "\n",
    "camera_link = traitlets.dlink((camera, 'value'), (image, 'value'), transform=bgr8_to_jpeg)\n"
   ]
  },
  {
   "cell_type": "code",
   "execution_count": 7,
   "metadata": {},
   "outputs": [],
   "source": [
    "camera.stop()"
   ]
  },
  {
   "cell_type": "code",
   "execution_count": null,
   "metadata": {},
   "outputs": [],
   "source": []
  }
 ],
 "metadata": {
  "kernelspec": {
   "display_name": "Python 3",
   "language": "python",
   "name": "python3"
  },
  "language_info": {
   "codemirror_mode": {
    "name": "ipython",
    "version": 3
   },
   "file_extension": ".py",
   "mimetype": "text/x-python",
   "name": "python",
   "nbconvert_exporter": "python",
   "pygments_lexer": "ipython3",
   "version": "3.6.9"
  }
 },
 "nbformat": 4,
 "nbformat_minor": 4
}
