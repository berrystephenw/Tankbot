{
 "cells": [
  {
   "cell_type": "markdown",
   "metadata": {},
   "source": [
    "A simple test to get the GPIO pins to use PWM\n",
    "\n",
    "pin 33 should be configured to use the PWM pin after going through all of the steps outlined here:\n",
    "file:///home/sberry/Downloads/customizing_the_jetson_nano_40-pin_expansion_header_v1.2.pdf\n",
    "\n",
    "ok the PWM didn't work - said the pin was being used. I couldn't also force it to any state manually. But pin 37 did work so I can control it manually using the time statement\n"
   ]
  },
  {
   "cell_type": "code",
   "execution_count": 1,
   "metadata": {},
   "outputs": [
    {
     "name": "stderr",
     "output_type": "stream",
     "text": [
      "/usr/local/lib/python3.6/dist-packages/Jetson.GPIO-2.0.12-py3.6.egg/Jetson/GPIO/gpio.py:366: RuntimeWarning: This channel is already in use, continuing anyway. Use GPIO.setwarnings(False) to disable warnings\n"
     ]
    }
   ],
   "source": [
    "import RPi.GPIO as GPIO\n",
    "import time\n",
    "\n",
    "GPIO.setmode(GPIO.BOARD)\n",
    "GPIO.setup(33, GPIO.OUT)\n",
    "\n",
    "channel = 37 # GPIO pin to use on 40 pin header. \n",
    "GPIO.setup(channel, GPIO.OUT, initial=GPIO.LOW)\n"
   ]
  },
  {
   "cell_type": "code",
   "execution_count": 2,
   "metadata": {},
   "outputs": [],
   "source": [
    "\n",
    "#p = GPIO.PWM(33, 10000)\n",
    "#GPIO.output(channel, GPIO.LOW)\n",
    "#p.start(1)\n",
    "#p.stop()\n",
    "\n",
    "for var in list(range(50000)):\n",
    "    GPIO.output(channel, GPIO.LOW) \n",
    "    time.sleep(.1)\n",
    "    GPIO.output(channel, GPIO.HIGH)\n",
    "    time.sleep(.1)\n",
    "\n",
    "#input('Press return to stop:')   # use raw_input for Python 2\n"
   ]
  },
  {
   "cell_type": "code",
   "execution_count": null,
   "metadata": {},
   "outputs": [],
   "source": [
    "GPIO.cleanup()"
   ]
  },
  {
   "cell_type": "code",
   "execution_count": null,
   "metadata": {},
   "outputs": [],
   "source": []
  }
 ],
 "metadata": {
  "kernelspec": {
   "display_name": "Python 3",
   "language": "python",
   "name": "python3"
  },
  "language_info": {
   "codemirror_mode": {
    "name": "ipython",
    "version": 3
   },
   "file_extension": ".py",
   "mimetype": "text/x-python",
   "name": "python",
   "nbconvert_exporter": "python",
   "pygments_lexer": "ipython3",
   "version": "3.6.9"
  }
 },
 "nbformat": 4,
 "nbformat_minor": 4
}
